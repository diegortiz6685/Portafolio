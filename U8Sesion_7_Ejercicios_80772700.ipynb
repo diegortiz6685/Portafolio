{
  "nbformat": 4,
  "nbformat_minor": 0,
  "metadata": {
    "colab": {
      "provenance": [],
      "authorship_tag": "ABX9TyN29/UikL+Yaw4OKrjHIxxg",
      "include_colab_link": true
    },
    "kernelspec": {
      "name": "python3",
      "display_name": "Python 3"
    },
    "language_info": {
      "name": "python"
    }
  },
  "cells": [
    {
      "cell_type": "markdown",
      "metadata": {
        "id": "view-in-github",
        "colab_type": "text"
      },
      "source": [
        "<a href=\"https://colab.research.google.com/github/diegortiz6685/Portafolio/blob/main/U8Sesion_7_Ejercicios_80772700.ipynb\" target=\"_parent\"><img src=\"https://colab.research.google.com/assets/colab-badge.svg\" alt=\"Open In Colab\"/></a>"
      ]
    },
    {
      "cell_type": "markdown",
      "source": [
        "EJERCICIO 1: Fusión de Datos con Inner Join"
      ],
      "metadata": {
        "id": "1SlfJuo3sC3G"
      }
    },
    {
      "cell_type": "code",
      "execution_count": null,
      "metadata": {
        "id": "BYLpI8Mxr9bA"
      },
      "outputs": [],
      "source": [
        "import pandas as pd\n",
        "import numpy as np\n",
        "\n",
        "#1. Importar DataFrames\n",
        "df_ventas = pd.read_csv('https://drive.google.com/uc?export=download&id=1txHNdJmFQqfGr1p7_9Y07HjfaHV7oJ1b')\n",
        "df_productos = pd.read_csv('https://drive.google.com/uc?export=download&id=1Vbfvur9orXO3lbb9RQgu27hAg1F9BMKm')\n",
        "\n",
        "#2. Fusionar los DataFrames usando merge conservando coincidencias en ambas tablas\n",
        "df_fusion = pd.merge(df_ventas, df_productos,on = 'Producto_ID',how = 'inner')\n",
        "\n",
        "#3. Mostrar el DataFrame resultante\n",
        "df_fusion.head(10)\n"
      ]
    },
    {
      "cell_type": "markdown",
      "source": [
        "EJERCICIO 2: Fusión de Datos con Left Join"
      ],
      "metadata": {
        "id": "TQDCYtdpvN-u"
      }
    },
    {
      "cell_type": "code",
      "source": [
        "import pandas as pd\n",
        "import numpy as np\n",
        "\n",
        "#2. Fusionar los DataFrames usando merge - left\n",
        "df_fusion = pd.merge(df_ventas, df_productos,on = 'Producto_ID',how = 'left')\n",
        "\n",
        "#3. Mostrar el DataFrame resultante\n",
        "df_fusion.head(10)"
      ],
      "metadata": {
        "id": "bO2xHgm2vUYb"
      },
      "execution_count": null,
      "outputs": []
    },
    {
      "cell_type": "markdown",
      "source": [
        "EJERCICIO 3: Fusión de Datos con Right Join"
      ],
      "metadata": {
        "id": "STmSXswsyCib"
      }
    },
    {
      "cell_type": "code",
      "source": [
        "import pandas as pd\n",
        "import numpy as np\n",
        "\n",
        "#2. Fusionar los DataFrames usando merge - right\n",
        "df_fusion = pd.merge(df_ventas, df_productos,on = 'Producto_ID',how = 'right')\n",
        "\n",
        "#3. Mostrar el DataFrame resultante\n",
        "df_fusion.head(10)"
      ],
      "metadata": {
        "id": "InHDyP6DyIGj"
      },
      "execution_count": null,
      "outputs": []
    },
    {
      "cell_type": "markdown",
      "source": [
        "EJERCICIO 4: Fusión de Datos con el Método .join()"
      ],
      "metadata": {
        "id": "sGw8X3eRzxfC"
      }
    },
    {
      "cell_type": "code",
      "source": [
        "import pandas as pd\n",
        "import numpy as np\n",
        "\n",
        "#1. Importar DataFrames\n",
        "df_ventas = pd.read_csv('https://drive.google.com/uc?export=download&id=1txHNdJmFQqfGr1p7_9Y07HjfaHV7oJ1b')\n",
        "df_productos = pd.read_csv('https://drive.google.com/uc?export=download&id=1Vbfvur9orXO3lbb9RQgu27hAg1F9BMKm')\n",
        "#display(df_ventas)\n",
        "#display(df_productos)\n",
        "\n",
        "#2. Establecer columna \"Producto_ID\" como índice de los 2 DataFrames\n",
        "df_ventas.set_index('Producto_ID', inplace=True)\n",
        "df_productos.set_index('Producto_ID', inplace=True)\n",
        "\n",
        "#3. Fusionar los DataFrames\n",
        "df_fusion = df_ventas.join(df_productos, how='inner')\n",
        "\n",
        "#4. Mostrar el DataFrame resultante\n",
        "df_fusion.head(10)"
      ],
      "metadata": {
        "id": "4bAZd-8az0Gq"
      },
      "execution_count": null,
      "outputs": []
    },
    {
      "cell_type": "markdown",
      "source": [
        "EJERCICIO 5: Cálculo de \"Ingresos Totales\" tras la Fusión de Datos"
      ],
      "metadata": {
        "id": "dZMratPV0yNC"
      }
    },
    {
      "cell_type": "code",
      "source": [
        "import pandas as pd\n",
        "import numpy as np\n",
        "\n",
        "#1. Importar DataFrames\n",
        "df_ventas = pd.read_csv('https://drive.google.com/uc?export=download&id=1txHNdJmFQqfGr1p7_9Y07HjfaHV7oJ1b')\n",
        "df_productos = pd.read_csv('https://drive.google.com/uc?export=download&id=1Vbfvur9orXO3lbb9RQgu27hAg1F9BMKm')\n",
        "\n",
        "#2. Establecer columna \"Producto_ID\" como índice de los 2 DataFrames\n",
        "df_ventas.set_index('Producto_ID', inplace=True)\n",
        "df_productos.set_index('Producto_ID', inplace=True)\n",
        "\n",
        "#3. Fusionar los DataFrames\n",
        "df_fusion = df_ventas.join(df_productos, how='inner')\n",
        "\n",
        "#4. Crear Columna \"Ingresos Totales\"\n",
        "df_fusion['Ingresos Totales'] = df_fusion['Cantidad Vendida'] * df_fusion['Precio Unitario']\n",
        "\n",
        "#5. Mostrar el DataFrame resultante\n",
        "df_fusion.head(10)"
      ],
      "metadata": {
        "id": "ggJPmEXP028x"
      },
      "execution_count": null,
      "outputs": []
    }
  ]
}