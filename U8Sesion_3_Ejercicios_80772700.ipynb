{
  "nbformat": 4,
  "nbformat_minor": 0,
  "metadata": {
    "colab": {
      "provenance": [],
      "mount_file_id": "1IM4w2QigokojEcd2qeQs3cW38YQdasQ3",
      "authorship_tag": "ABX9TyOvk/Gy65RkFC9aLy3nrTSb",
      "include_colab_link": true
    },
    "kernelspec": {
      "name": "python3",
      "display_name": "Python 3"
    },
    "language_info": {
      "name": "python"
    }
  },
  "cells": [
    {
      "cell_type": "markdown",
      "metadata": {
        "id": "view-in-github",
        "colab_type": "text"
      },
      "source": [
        "<a href=\"https://colab.research.google.com/github/diegortiz6685/Portafolio/blob/main/U8Sesion_3_Ejercicios_80772700.ipynb\" target=\"_parent\"><img src=\"https://colab.research.google.com/assets/colab-badge.svg\" alt=\"Open In Colab\"/></a>"
      ]
    },
    {
      "cell_type": "markdown",
      "source": [
        "EJERCICIO 1: Cálculo de Descuentos y Total con Descuento"
      ],
      "metadata": {
        "id": "5Y3D76QVisgm"
      }
    },
    {
      "cell_type": "code",
      "source": [
        "import pandas as pd\n",
        "import numpy as np\n",
        "\n",
        "#1. Cargar Datos de un CSV\n",
        "df = pd.read_csv('/content/drive/MyDrive/CSVs/Diego/DFPapeleriaDO.csv')\n",
        "df['Total_venta']=df['Precio_unitario']*df['Cantidad']\n",
        "\n",
        "#2. Crear Columna Descuento Electrónicos 10% Papelería 8%\n",
        "descuento = np.where(df['Categoría'] == 'Electrónica', 0.1, 0.08)\n",
        "df['Descuento'] = df['Total_venta'] * descuento\n",
        "\n",
        "df['Total_con_descuento'] = df['Total_venta'] - df['Descuento']\n",
        "df"
      ],
      "metadata": {
        "id": "Q-2XFbV-iv7G"
      },
      "execution_count": null,
      "outputs": []
    },
    {
      "cell_type": "markdown",
      "source": [
        "EJERCICIO 2: Ajuste de Precio Unitario en Función de las Ventas"
      ],
      "metadata": {
        "id": "NV9tP0DaDNda"
      }
    },
    {
      "cell_type": "code",
      "source": [
        "import pandas as pd\n",
        "import numpy as np\n",
        "\n",
        "df['Cantidad'] = np.random.randint(1,100,size=len(df))\n",
        "df_50 = df[df['Cantidad']>50]\n",
        "df_50['Precio_unitario'] = df_50['Precio_unitario']*1.08\n",
        "print(df)\n",
        "print(df_50.head(10))"
      ],
      "metadata": {
        "id": "yIaFJfucObq0"
      },
      "execution_count": null,
      "outputs": []
    },
    {
      "cell_type": "markdown",
      "source": [
        "EJERCICIO 3: Cálculo del Margen de Ganancia"
      ],
      "metadata": {
        "id": "YDIfX6dNQkcZ"
      }
    },
    {
      "cell_type": "code",
      "source": [
        "#2. Costo estimado producto\n",
        "costo_estimado = df['Total_venta']*0.65\n",
        "\n",
        "#3. MArgen de Ganancia\n",
        "df['Margen_ganancia'] = (df['Total_con_descuento']-costo_estimado)\n",
        "#df.head(10)\n",
        "df"
      ],
      "metadata": {
        "id": "6Bv64FRTQrZW"
      },
      "execution_count": null,
      "outputs": []
    },
    {
      "cell_type": "markdown",
      "source": [
        "EJERCICIO 4: Modificación de Categorías de Productos"
      ],
      "metadata": {
        "id": "ZFihWMrDSl0g"
      }
    },
    {
      "cell_type": "code",
      "source": [
        "import pandas as pd\n",
        "import numpy as np\n",
        "\n",
        "#1. Cargar Datos de un CSV\n",
        "df2 = pd.read_csv('/content/drive/MyDrive/CSVs/Diego/TiendaElectronicos.csv')\n",
        "\n",
        "#2. Modificar columna Categoría\n",
        "df2.loc[df2['Producto']=='Teclado','Categoría']='Periféricos'\n",
        "df2.loc[df2['Producto']=='Monitor','Categoría']='Periféricos'\n",
        "\n",
        "#2. Modificar columna Categpría opción 2\n",
        "#df2.loc[df2['Producto'].isin(['Teclado','Monitor']),'Categoría']='Periféricos'\n",
        "\n",
        "#3. Mostrar las 10 primeras filas\n",
        "df2.head(10)"
      ],
      "metadata": {
        "id": "syB-L9VOSvYI"
      },
      "execution_count": null,
      "outputs": []
    }
  ]
}