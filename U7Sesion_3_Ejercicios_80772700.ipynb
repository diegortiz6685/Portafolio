{
  "nbformat": 4,
  "nbformat_minor": 0,
  "metadata": {
    "colab": {
      "provenance": [],
      "authorship_tag": "ABX9TyN8w+ZszXAfuuMtCGPx3G2p",
      "include_colab_link": true
    },
    "kernelspec": {
      "name": "python3",
      "display_name": "Python 3"
    },
    "language_info": {
      "name": "python"
    }
  },
  "cells": [
    {
      "cell_type": "markdown",
      "metadata": {
        "id": "view-in-github",
        "colab_type": "text"
      },
      "source": [
        "<a href=\"https://colab.research.google.com/github/diegortiz6685/Portafolio/blob/main/U7Sesion_3_Ejercicios_80772700.ipynb\" target=\"_parent\"><img src=\"https://colab.research.google.com/assets/colab-badge.svg\" alt=\"Open In Colab\"/></a>"
      ]
    },
    {
      "cell_type": "markdown",
      "source": [
        "EJERCICIOS UNIDAD 7, SESIÓN 3"
      ],
      "metadata": {
        "id": "2k3rMOWYstxP"
      }
    },
    {
      "cell_type": "markdown",
      "source": [
        "EJERCICIO 1: Realizar un programa que solicite al usuario 3 números e imprima la media de estos"
      ],
      "metadata": {
        "id": "Uv44-attsxzS"
      }
    },
    {
      "cell_type": "code",
      "source": [
        "#Ingresar números\n",
        "num1 = float(input(\"Ingrese el primer número: \"))\n",
        "num2 = float(input(\"Ingrese el segundo número: \"))\n",
        "num3 = float(input(\"Ingrese el tercer número: \"))\n",
        "\n",
        "#Calcular e imprimir la media de los 3 números\n",
        "numeros=[num1,num2,num3]\n",
        "media=sum(numeros)/len(numeros)\n",
        "print(f\"La media de los números ingresados es {media}\")\n"
      ],
      "metadata": {
        "id": "tlZX3sb0s2an"
      },
      "execution_count": null,
      "outputs": []
    },
    {
      "cell_type": "markdown",
      "source": [
        "EJERCICIO 2: índice de masa corporal"
      ],
      "metadata": {
        "id": "hlVgvd5fujpb"
      }
    },
    {
      "cell_type": "code",
      "source": [
        "#Solicitar peso y estatura del usuario\n",
        "peso=float(input(\"Por favor, ingrese su peso en kilogramos (kg): \"))\n",
        "high=float(input(\"Por favor, ingrese su estaruatura en metros (m): \"))\n",
        "\n",
        "#Calcular el índice de masa corporal\n",
        "imc=peso/(high**2)\n",
        "\n",
        "#Imprimir el resultado\n",
        "imc_redondeado=round(imc,2)\n",
        "print(f\"Su índice de masa corporal es {imc_redondeado}\")\n",
        "\n",
        "#Adicional: Determinar su estado de acuerdo a IMC\n",
        "if imc_redondeado<18.5:\n",
        "    print(\"Usted tiene Peso Bajo\")\n",
        "elif imc_redondeado>=18.5 and imc_redondeado<24.9:\n",
        "    print(\"Usted tiene Peso Normal\")\n",
        "elif imc_redondeado>=25 and imc_redondeado<29.9:\n",
        "    print(\"Usted está en Sobrepeso\")\n",
        "elif imc_redondeado>=30 and imc_redondeado<34.9:\n",
        "    print(\"USted está en Obesidad Grado 1\")\n",
        "elif imc_redondeado>=35 and imc_redondeado<39.99:\n",
        "    print(\"Usted está en Obesidad Grado 2\")\n",
        "else:\n",
        "    print(\"Usted está en Obesidad Grado 3\")"
      ],
      "metadata": {
        "id": "mm8QLLqAuwkl"
      },
      "execution_count": null,
      "outputs": []
    },
    {
      "cell_type": "markdown",
      "source": [
        "EJERCICIO 3: Pago correspondiente"
      ],
      "metadata": {
        "id": "PnTesYAZy-IE"
      }
    },
    {
      "cell_type": "code",
      "source": [
        "#Solicitar horas trabajadas y costo por hora\n",
        "horas=int(input(\"Por favor, ingrese el número de horas trabajadas: \"))\n",
        "costo=int(input(\"Por favor, ingrese el valor por hora en pesos: \"))\n",
        "\n",
        "#Calcular el pago correspondiente\n",
        "pago=horas*costo\n",
        "\n",
        "#Imprimir el resultado\n",
        "print(f\"Se le debe pagar ${pago} pesos\")"
      ],
      "metadata": {
        "id": "ktwb3RhIzCwC"
      },
      "execution_count": null,
      "outputs": []
    },
    {
      "cell_type": "markdown",
      "source": [
        "EJERCICIO 4: Respuestas"
      ],
      "metadata": {
        "id": "dzczGMagLlcR"
      }
    },
    {
      "cell_type": "code",
      "source": [
        "#Solicitud de respuestas\n",
        "correctas=int(input(\"Por favor, ingrese el número de respuestas correctas del postulante: \"))\n",
        "incorrectas=int(input(\"Por favor, ingrese el número de respuestas incorrectas del postulante: \"))\n",
        "blanco=int(input(\"Por favor, ingrese el número de respuestas en blanco del postulante: \"))\n",
        "\n",
        "#Cálculo del puntaje\n",
        "puntaje=(correctas*3) + (incorrectas*-1) + (blanco*0)\n",
        "print(f\"El puntaje del Postulante es {puntaje}\")"
      ],
      "metadata": {
        "id": "mI2uK5nyMtVS"
      },
      "execution_count": null,
      "outputs": []
    },
    {
      "cell_type": "markdown",
      "source": [
        "EJERCICIO 5: Multiplicación"
      ],
      "metadata": {
        "id": "YdiyBeibOK8z"
      }
    },
    {
      "cell_type": "code",
      "source": [
        "#Genero la variable para iniciar el ciclo\n",
        "multiplicacion=1\n",
        "\n",
        "#Genero el código para el ciclo\n",
        "while True:\n",
        "    numero=int(input(\"Ingrese un número entero: \"))\n",
        "    if numero>=10:\n",
        "      print(\"El resultado de la multiplicación con los números digitados hasta el momento:\",multiplicacion)\n",
        "      break\n",
        "    multiplicacion*=numero"
      ],
      "metadata": {
        "id": "Ts_v-gJBOZLj"
      },
      "execution_count": null,
      "outputs": []
    }
  ]
}