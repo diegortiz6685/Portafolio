{
  "nbformat": 4,
  "nbformat_minor": 0,
  "metadata": {
    "colab": {
      "provenance": [],
      "authorship_tag": "ABX9TyO9FcStz9Po50KPjSVRmoEu",
      "include_colab_link": true
    },
    "kernelspec": {
      "name": "python3",
      "display_name": "Python 3"
    },
    "language_info": {
      "name": "python"
    }
  },
  "cells": [
    {
      "cell_type": "markdown",
      "metadata": {
        "id": "view-in-github",
        "colab_type": "text"
      },
      "source": [
        "<a href=\"https://colab.research.google.com/github/diegortiz6685/Portafolio/blob/main/U7Sesion_1_Ejercicios_80772700.ipynb\" target=\"_parent\"><img src=\"https://colab.research.google.com/assets/colab-badge.svg\" alt=\"Open In Colab\"/></a>"
      ]
    },
    {
      "cell_type": "markdown",
      "source": [
        "UNIDAD 7 SESIÓN 1:"
      ],
      "metadata": {
        "id": "91EaexDBVzpb"
      }
    },
    {
      "cell_type": "markdown",
      "source": [
        "EJERCICIO 1:\n",
        "Validación rango"
      ],
      "metadata": {
        "id": "fHfpR96GMI5R"
      }
    },
    {
      "cell_type": "code",
      "source": [
        "#Solicitar un número al usuario\n",
        "numero=int(input(\"Por favor,ingrese un número: \"))\n",
        "\n",
        "#Comprobar si está en el rango de 10 a 20 (inclusive)\n",
        "if numero>=10 and numero<=20:\n",
        "    print(f\"El número {numero} está en el rango de 10 a 20\")\n",
        "else:\n",
        "    print(f\"El número {numero} no está en el rango de 10 a 20\")"
      ],
      "metadata": {
        "id": "vwtQQMHhMRnN"
      },
      "execution_count": null,
      "outputs": []
    },
    {
      "cell_type": "markdown",
      "source": [
        "EJERCICIO 2: Solicita al usuario un número entero e imprime si es par o no"
      ],
      "metadata": {
        "id": "WN-HFozzVQmy"
      }
    },
    {
      "cell_type": "code",
      "source": [
        "#Solicitar un número entero\n",
        "numero=int(input(\"Por favor,ingrese un número: \"))\n",
        "\n",
        "#Comprobar si es par o impar\n",
        "if numero%2==0:\n",
        "    print(f\"El número {numero} es par\")\n",
        "else:\n",
        "    print(f\"El número {numero} es impar\")"
      ],
      "metadata": {
        "id": "xdqpRdNAVaQH"
      },
      "execution_count": null,
      "outputs": []
    },
    {
      "cell_type": "markdown",
      "source": [
        "EJERCICIO 3: Comparación cadenas: Solicita al usuario dos cadenas compáralas y verifica si son o no iguales"
      ],
      "metadata": {
        "id": "-jDuyCljWSBf"
      }
    },
    {
      "cell_type": "code",
      "source": [
        "#Solicitar Cadena\n",
        "chain1=input(\"Por favor, ingrese la primera cadena: \")\n",
        "chain2=input(\"Por favor, ingrese la segunda cadena: \")\n",
        "\n",
        "#Comparar las cadenas\n",
        "if chain1==chain2:\n",
        "    print(\"Las cadenas coinciden\")\n",
        "else:\n",
        "    print(\"Las cadenas no coinciden\")"
      ],
      "metadata": {
        "id": "vztB8ljtWbxO"
      },
      "execution_count": null,
      "outputs": []
    },
    {
      "cell_type": "markdown",
      "source": [
        "EJERCICIO 4: Tornillo"
      ],
      "metadata": {
        "id": "VD60cJ2YXmiT"
      }
    },
    {
      "cell_type": "markdown",
      "source": [
        "Cree un programa que solicite el tamaño de un tornillo e imprima su tamaño"
      ],
      "metadata": {
        "id": "qUMyvKqdX-qk"
      }
    },
    {
      "cell_type": "code",
      "source": [
        "#Solicitar tamaño del tornillo\n",
        "tamano_tornillo=float(input(\"Por favor ingrese el tamaño del tornillo en cm: \"))\n",
        "\n",
        "#Validación del tamaño\n",
        "if tamano_tornillo<1:\n",
        "    print(\"El tornillo está fuera del rango\")\n",
        "elif tamano_tornillo>=1 and tamano_tornillo<3:\n",
        "    print(\"El tornillo es pequeño\")\n",
        "elif tamano_tornillo>=3 and tamano_tornillo<5:\n",
        "    print(\"El tornillo es mediano\")\n",
        "elif tamano_tornillo>=5 and tamano_tornillo<6.5:\n",
        "    print(\"El tornillo es grande\")\n",
        "elif tamano_tornillo>=6.5 and tamano_tornillo<8.5:\n",
        "    print(\"El tornillo es muy grande\")\n",
        "else:\n",
        "    print(\"El tornillo es gigante\")"
      ],
      "metadata": {
        "id": "3DTqih6xY7Ax"
      },
      "execution_count": null,
      "outputs": []
    },
    {
      "cell_type": "markdown",
      "source": [
        "EJERCICIO 5: Tipo de Triángulo"
      ],
      "metadata": {
        "id": "lU_v8NbhcI1t"
      }
    },
    {
      "cell_type": "code",
      "source": [
        "#Solicitar longitud lados del triángulo\n",
        "lado1=float(input(\"Por favor, ingrese la longitud del primer lado del triángulo en cm: \"))\n",
        "lado2=float(input(\"Por favor, ingrese la longitud del segundo lado del triángulo en cm: \"))\n",
        "lado3=float(input(\"Por favor, ingrese la longitud del tercer lado del triángulo en cm: \"))\n",
        "\n",
        "#Validación de tipo de triángulo\n",
        "if lado1==lado2==lado3:\n",
        "    print(\"El triángulo es equilátero\")\n",
        "elif lado1==lado2 or lado1==lado3 or lado2==lado3:\n",
        "    print(\"El triángulo es isósceles\")\n",
        "else:\n",
        "    print(\"El triángulo es escaleno\")"
      ],
      "metadata": {
        "id": "CkFgFzLieUTe"
      },
      "execution_count": null,
      "outputs": []
    },
    {
      "cell_type": "markdown",
      "source": [
        "EJERCICIO 6: Salarios"
      ],
      "metadata": {
        "id": "YvzxvG4inKkP"
      }
    },
    {
      "cell_type": "code",
      "source": [
        "#Solicito el número de empleados\n",
        "n=int(input(\"Ingrese el número de empleados: \"))\n",
        "\n",
        "#Determino los contadores y les doy el punto de inicio\n",
        "cont_100_300 = 0\n",
        "cont_mas_300 = 0\n",
        "total_sueldos = 0\n",
        "\n",
        "#Genero el código para iniciar los conteos\n",
        "for i in range(n):\n",
        "    sueldo = float(input(f\"Ingrese el sueldo del empleado {i+1}: \"))\n",
        "    if 100 <= sueldo <=500:\n",
        "        if sueldo <=300:\n",
        "            cont_100_300 += 1\n",
        "        else:\n",
        "            cont_mas_300 += 1\n",
        "        total_sueldos += sueldo\n",
        "    else:\n",
        "        print(\"OJO El sueldo debe estar entre 100 y 500. El valor ingresado no es válido. No se incluye en el conteo\")\n",
        "\n",
        "#Entrego los resultados\n",
        "print(\"\\nRESULTADOS:\")\n",
        "print(f\"Empleados con sueldo entre 100 y 300: {cont_100_300}\")\n",
        "print(f\"Empleados con sueldo mayor a 300: {cont_mas_300}\")\n",
        "print(\"El gasto total en sueldos es\", total_sueldos)"
      ],
      "metadata": {
        "id": "RwWfkJasnOFH"
      },
      "execution_count": null,
      "outputs": []
    },
    {
      "cell_type": "markdown",
      "source": [
        "EJERCICIO 7: Conteo de Piezas"
      ],
      "metadata": {
        "id": "mc4aDa6sqXnx"
      }
    },
    {
      "cell_type": "code",
      "source": [
        "#Solicitar al usuario el número de piezas que se van a procesar\n",
        "n = int(input(\"Ingrese el número de piezas a ser procesadas: \"))\n",
        "\n",
        "#Genero contador de piezas\n",
        "aptas = 0\n",
        "\n",
        "#Inicio el bucle para leer las longitudes de pieza y determinar si es apta o no\n",
        "for i in range(1,n+1):\n",
        "  longitud=float(input(f\"Ingrese la longittud de la pieza # {i} (en metros): \"))\n",
        "  if 1.20 <= longitud <= 1.30:\n",
        "    aptas += 1\n",
        "\n",
        "#Publico el resultado\n",
        "print(f\"\\nEn total hay {aptas} piezas aptas para ser procesadas\")"
      ],
      "metadata": {
        "id": "UHJVyBqvqchf"
      },
      "execution_count": null,
      "outputs": []
    }
  ]
}