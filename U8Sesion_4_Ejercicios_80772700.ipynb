{
  "nbformat": 4,
  "nbformat_minor": 0,
  "metadata": {
    "colab": {
      "provenance": [],
      "mount_file_id": "1O4FRDnZ64orX_S93G7F5GybdkqVEmm-L",
      "authorship_tag": "ABX9TyOpoBkkXWCeVF6ANJZ/qaD+",
      "include_colab_link": true
    },
    "kernelspec": {
      "name": "python3",
      "display_name": "Python 3"
    },
    "language_info": {
      "name": "python"
    }
  },
  "cells": [
    {
      "cell_type": "markdown",
      "metadata": {
        "id": "view-in-github",
        "colab_type": "text"
      },
      "source": [
        "<a href=\"https://colab.research.google.com/github/diegortiz6685/Portafolio/blob/main/U8Sesion_4_Ejercicios_80772700.ipynb\" target=\"_parent\"><img src=\"https://colab.research.google.com/assets/colab-badge.svg\" alt=\"Open In Colab\"/></a>"
      ]
    },
    {
      "cell_type": "markdown",
      "source": [
        "EJERCICIO 1: Identificación de Valores Nulos en Datos de Ventas"
      ],
      "metadata": {
        "id": "ICKrR7CccdZk"
      }
    },
    {
      "cell_type": "code",
      "source": [
        "import pandas as pd\n",
        "import numpy as np\n",
        "\n",
        "#1. Cargar DataFrame\n",
        "df = pd.read_csv('/content/drive/MyDrive/CSVs/Diego/TiendaElectronicosNulos.csv')\n",
        "\n",
        "#2. Identificar cuantos valores nulos hay en el DF\n",
        "valores_nulos = df.isnull().sum()\n",
        "print(\"Los Valores Nulos son:\\n\")\n",
        "print(valores_nulos)\n",
        "\n",
        "#Filtrar y mostrar unicamente las filas con nulos\n",
        "df_nulos = df[df.isnull().any(axis=1)]\n",
        "print(\"\\nDataFrame de Nulos\\n\")\n",
        "df_nulos\n"
      ],
      "metadata": {
        "id": "DwNE9QqLc69_"
      },
      "execution_count": null,
      "outputs": []
    },
    {
      "cell_type": "markdown",
      "source": [
        "EJERCICIO 2: Eliminación de Filas con Valores Nulos"
      ],
      "metadata": {
        "id": "vMGIKFF5f5XS"
      }
    },
    {
      "cell_type": "code",
      "source": [
        "#2. Mostrar todas las filas\n",
        "print(\"DataFrame Original:\\n\")\n",
        "print(df)\n",
        "\n",
        "#3. Eliminar las filas con nulos\n",
        "df2 = df.dropna()\n",
        "\n",
        "#4. Imprimir nuevo DF\n",
        "print(\"\\nDataFrame sin Nulos:\\n\")\n",
        "df2"
      ],
      "metadata": {
        "id": "S9GaUpCpf_wW"
      },
      "execution_count": null,
      "outputs": []
    },
    {
      "cell_type": "markdown",
      "source": [
        "EJERCICIO 3: Reemplazo de Valores Nulos en la Columna \"Ventas\""
      ],
      "metadata": {
        "id": "PWpK8X2GhX1j"
      }
    },
    {
      "cell_type": "code",
      "source": [
        "#2. Calcular el promedio de la columna Total Venta\n",
        "promedio = df['Total Venta'].mean()\n",
        "\n",
        "#3. Reemplazar los valores nulos en Total Venta con el promedio\n",
        "df['Total Venta'] = df['Total Venta'].fillna(promedio)\n",
        "print(\"El Promedio de las ventas totales es\",promedio)\n",
        "print(\"\\nDataFrame con Nulos en Total Venta Reemplazados:\\n\")\n",
        "df"
      ],
      "metadata": {
        "id": "x1IhnF_EhgIe"
      },
      "execution_count": null,
      "outputs": []
    },
    {
      "cell_type": "markdown",
      "source": [
        "EJERCICIO 4: Reemplazo de Valores Nulos en la Columna Categoría"
      ],
      "metadata": {
        "id": "dg4U1aqwuUuu"
      }
    },
    {
      "cell_type": "code",
      "source": [
        "#2. Reemplazar valores nulos de la columna Categoría con Desconocido\n",
        "df['Categoría'] =df['Categoría'].fillna('Desconocido')\n",
        "df"
      ],
      "metadata": {
        "id": "otk3aM_9uQQw"
      },
      "execution_count": null,
      "outputs": []
    },
    {
      "cell_type": "markdown",
      "source": [
        "EJERCICIO 5: Reemplazar los Valores Nulos en \"Precio Unitario\" con el Promedio de su Categoría"
      ],
      "metadata": {
        "id": "7qHStjPRu241"
      }
    },
    {
      "cell_type": "code",
      "source": [
        "#2. Identificar los valores nulos de la columna Precio Unitario\n",
        "precio_unit_null = df[df['Precio Unitario'].isnull()]\n",
        "print(precio_unit_null)\n",
        "\n",
        "#3. Calcular promedio de Precio Unitario por categoría\n",
        "promedio_categoria = df.groupby('Categoría')['Precio Unitario'].mean()\n",
        "print(\"\\nPromedio de Precio Unitario por Categoría:\\n\")\n",
        "print(promedio_categoria)\n",
        "\n",
        "#4. Reemplazar valores nulos en Precio Unitario con los promedios de cada Categoría\n",
        "for n in promedio_categoria.index:\n",
        "  df['Precio Unitario'] = np.where((df['Categoría'] == n) & (df['Precio Unitario'].isnull()), promedio_categoria[n], df['Precio Unitario'])\n",
        "\n",
        "#5. Mostrar DataFrame\n",
        "df.head(10)"
      ],
      "metadata": {
        "id": "T6FyKmh6vLW_"
      },
      "execution_count": null,
      "outputs": []
    }
  ]
}