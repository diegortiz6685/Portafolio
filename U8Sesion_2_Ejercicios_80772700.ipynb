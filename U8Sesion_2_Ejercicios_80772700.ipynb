{
  "nbformat": 4,
  "nbformat_minor": 0,
  "metadata": {
    "colab": {
      "provenance": [],
      "mount_file_id": "1PU516u1W4gRZWkAjCj34J7iGNPjY7jUc",
      "authorship_tag": "ABX9TyOiFT9ZVqgw88h4w2ifz3YR",
      "include_colab_link": true
    },
    "kernelspec": {
      "name": "python3",
      "display_name": "Python 3"
    },
    "language_info": {
      "name": "python"
    }
  },
  "cells": [
    {
      "cell_type": "markdown",
      "metadata": {
        "id": "view-in-github",
        "colab_type": "text"
      },
      "source": [
        "<a href=\"https://colab.research.google.com/github/diegortiz6685/Portafolio/blob/main/U8Sesion_2_Ejercicios_80772700.ipynb\" target=\"_parent\"><img src=\"https://colab.research.google.com/assets/colab-badge.svg\" alt=\"Open In Colab\"/></a>"
      ]
    },
    {
      "cell_type": "markdown",
      "source": [
        "EJERCICIO 1: Selección de columnas y visualización de datos"
      ],
      "metadata": {
        "id": "M9tkE5w3FAIV"
      }
    },
    {
      "cell_type": "code",
      "source": [
        "import pandas as pd\n",
        "import numpy as np\n",
        "\n",
        "#1. Cargar los datos desde CSV\n",
        "df = pd.read_csv(\"/content/drive/MyDrive/CSVs/Diego/Datos_Ventas_Diego_Ortiz.csv\")\n",
        "#df\n",
        "\n",
        "#2. Seleccionar columnas Producto, Ventas e Ingresos\n",
        "df_seleccionado = df[[\"Producto\", \"Uni.Vendidas\", \"Ingresos\"]]\n",
        "\n",
        "#3. Mostrar las primeras 7 filas del DataFrame\n",
        "print(df_seleccionado.head(7))"
      ],
      "metadata": {
        "id": "da6uHx9YFMx0"
      },
      "execution_count": null,
      "outputs": []
    },
    {
      "cell_type": "markdown",
      "source": [
        "EJERCICIO 2: Selección de Filas y Columnas Específicas"
      ],
      "metadata": {
        "id": "oKMAGAPgLLxi"
      }
    },
    {
      "cell_type": "code",
      "source": [
        "import pandas as pd\n",
        "import numpy as np\n",
        "\n",
        "#1. Cargar los datos\n",
        "df = pd.read_csv(\"/content/drive/MyDrive/CSVs/Diego/Datos_Ventas_Diego_Ortiz.csv\")\n",
        "\n",
        "#2. Seleccionar los primeros 15 registros del DF\n",
        "df_seleccion = df.head(15)\n",
        "#df\n",
        "\n",
        "#3. Mostrar unicamente las columnas Fecha y Precio Unitario\n",
        "df_seleccion2 = df_seleccion[[\"Fecha\",\"PrecioUnitario\"]]\n",
        "print(df_seleccion2)\n"
      ],
      "metadata": {
        "id": "VEb1tc6gLe3h"
      },
      "execution_count": null,
      "outputs": []
    },
    {
      "cell_type": "markdown",
      "source": [
        "EJERCICIO 3: Filtrado y Ordenamiento de Ventas Laptops"
      ],
      "metadata": {
        "id": "wIloFtM_M2GZ"
      }
    },
    {
      "cell_type": "code",
      "source": [
        "import pandas as pd\n",
        "import numpy as np\n",
        "\n",
        "#1. Cargar datos del Archivo\n",
        "df_electronico = pd.read_csv(\"/content/drive/MyDrive/CSVs/Diego/Datos_Ventas_Diego_Ortiz.csv\")\n",
        "print(\"1. Información del DataFrame antes del cambio:\\n\")\n",
        "print(df_electronico.info())\n",
        "\n",
        "#2. Convertir columna fecha\n",
        "df_electronico[\"Fecha_Venta\"] = pd.to_datetime(df_electronico[\"Fecha_Venta\"])\n",
        "print(\"\\n2. Información del DataFrame después del cambio\\n\")\n",
        "print(df_electronico.info())\n",
        "\n",
        "#3. Filtrar filas donde el producto es Laptop\n",
        "df_laptop = df_electronico[df_electronico[\"Nombre_Producto\"] == \"Laptop XYZ\"]\n",
        "print(\"\\n3. Filas donde el producto es Laptop:\\n\")\n",
        "print(df_laptop)\n",
        "\n",
        "#4. Seleccionar ventas entre el 10 y el 20 del mes\n",
        "df_ventas_filtro = df_electronico[df_electronico['Fecha_Venta'] > '2023-10-10']\n",
        "df_ventas_filtro2 = df_ventas_filtro[df_ventas_filtro['Fecha_Venta'] <'2023-10-20']\n",
        "print(\"\\n4. Ventas entre el 10 y 20 de Octubre del 2023\\n\")\n",
        "print(df_ventas_filtro2)\n",
        "\n",
        "#5. Ordenar resultados de la columna Total en orden descendente\n",
        "df_electronico['Total'] = df_electronico['Cantidad_Vendida']*df_electronico['Precio_Unitario']\n",
        "print(\"\\n5 y 6. DataFrame Ordenado de Mayor a Menor según el Total de Ventas:\\n\")\n",
        "df_ordenado = df_electronico.sort_values(by='Total', ascending=False)\n",
        "df_ordenado"
      ],
      "metadata": {
        "id": "IIrnDr_HM82R"
      },
      "execution_count": null,
      "outputs": []
    },
    {
      "cell_type": "markdown",
      "source": [
        "EJERCICIO 4: Filtrado de Productos con Precio y Ventas Superiores al Promedio"
      ],
      "metadata": {
        "id": "_A-wSUZybtbC"
      }
    },
    {
      "cell_type": "code",
      "source": [
        "import pandas as pd\n",
        "import numpy as np\n",
        "\n",
        "#1. Cargar los datos del archivo\n",
        "df = pd.read_csv(\"/content/drive/MyDrive/CSVs/Diego/Datos_Ventas_Diego_Ortiz.csv\")\n",
        "df['Uni.Vendidas'] = np.random.randint(1,100,size=len(df))\n",
        "df['Ingresos'] = df['PrecioUnitario'] * df['Uni.Vendidas']\n",
        "\n",
        "#2. Calcular promedio de precio unitario\n",
        "promedio_unidades = df['PrecioUnitario'].mean()\n",
        "promedio_round = round(promedio_unidades,2)\n",
        "print(\"\\nEl Promedio de Precio Unitario es:\",promedio_round)\n",
        "\n",
        "#3. Filtrar productos con precio unitario mayor al promedio y más de 40 unidades vendidas\n",
        "df_filtrado = df[(df['PrecioUnitario']>promedio_unidades) & (df['Uni.Vendidas'] < 40)]\n",
        "df_filtrado2 = df_filtrado[['Producto','Uni.Vendidas','PrecioUnitario','Ingresos']]\n",
        "print(\"\\nEl DataFrame Resultante Es:\\n\")\n",
        "df_filtrado2\n"
      ],
      "metadata": {
        "id": "H1HXl80Tbwu5"
      },
      "execution_count": null,
      "outputs": []
    }
  ]
}