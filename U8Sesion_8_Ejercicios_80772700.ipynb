{
  "nbformat": 4,
  "nbformat_minor": 0,
  "metadata": {
    "colab": {
      "provenance": [],
      "authorship_tag": "ABX9TyNKIjkaxgvfhVv6y+qW+f/p",
      "include_colab_link": true
    },
    "kernelspec": {
      "name": "python3",
      "display_name": "Python 3"
    },
    "language_info": {
      "name": "python"
    }
  },
  "cells": [
    {
      "cell_type": "markdown",
      "metadata": {
        "id": "view-in-github",
        "colab_type": "text"
      },
      "source": [
        "<a href=\"https://colab.research.google.com/github/diegortiz6685/Portafolio/blob/main/U8Sesion_8_Ejercicios_80772700.ipynb\" target=\"_parent\"><img src=\"https://colab.research.google.com/assets/colab-badge.svg\" alt=\"Open In Colab\"/></a>"
      ]
    },
    {
      "cell_type": "markdown",
      "source": [
        "EJERCICIO 1: Análisis de Ventas por Categoría en una Tienda"
      ],
      "metadata": {
        "id": "ErHzxm7A2DBp"
      }
    },
    {
      "cell_type": "code",
      "execution_count": null,
      "metadata": {
        "id": "iHDHfLx218tG"
      },
      "outputs": [],
      "source": [
        "import pandas as pd\n",
        "import numpy as np\n",
        "\n",
        "#1. Crear DataFrame del CSV\n",
        "df = pd.read_csv('https://drive.google.com/uc?export=download&id=1JS7jkpbWMaOlpsh_7Q6P8nue1U9aiM-C')\n",
        "\n",
        "#2. Mostrar 10 primeras filas\n",
        "display(df.head(10))\n",
        "\n",
        "#3. Agrupar datos por Categoría y sumar cantidades vendidas\n",
        "suma_cat = df.groupby('Categoría')['Cantidad Vendida'].sum()\n",
        "\n",
        "#4. Mostras Análisis\n",
        "print(\"\\nLas Cantidades vendidas por Categoría son:\\n\")\n",
        "print(suma_cat)\n"
      ]
    },
    {
      "cell_type": "markdown",
      "source": [
        "EJERCICIO 2: Cálculo del Precio Unitario Promedio por Categoría"
      ],
      "metadata": {
        "id": "5Ck1Nd9G4EFg"
      }
    },
    {
      "cell_type": "code",
      "source": [
        "#3. Agrupar por Categoría y calcular precio unitario promedio\n",
        "promedio = df.groupby('Categoría')['Precio Unitario'].mean()\n",
        "\n",
        "#4. Mostras Análisis\n",
        "print(\"\\nEl Precio Unitario Promedio por Categoría es:\\n\")\n",
        "print(promedio.round(2))"
      ],
      "metadata": {
        "id": "iLP0i6OF4J1Y"
      },
      "execution_count": null,
      "outputs": []
    },
    {
      "cell_type": "markdown",
      "source": [
        "EJERCICIO 3: Conteo de Ventas por Producto"
      ],
      "metadata": {
        "id": "EWy_uK0f5G4o"
      }
    },
    {
      "cell_type": "code",
      "source": [
        "#2. Mostrar 10 primeras filas\n",
        "display(df.head(10))\n",
        "\n",
        "#3. Agrupar datos por Producto y sumar cantidades vendidas\n",
        "ventas_reg = df.groupby('Producto')['Cantidad Vendida'].sum()\n",
        "\n",
        "#4. Mostras Análisis\n",
        "print(\"\\nLas Cantidades vendidas por Producto son:\\n\")\n",
        "print(ventas_reg)"
      ],
      "metadata": {
        "id": "Ifr4gW1c6VE3"
      },
      "execution_count": null,
      "outputs": []
    },
    {
      "cell_type": "markdown",
      "source": [
        "EJERCICIO 4: Análisis Estadístico de Ventas por Categoría"
      ],
      "metadata": {
        "id": "VbA3dgHb6oov"
      }
    },
    {
      "cell_type": "code",
      "source": [
        "#2. Mostrar 10 primeras filas\n",
        "display(df.head(10))\n",
        "\n",
        "#3. Agrupar datos por Categoría y Calcular estadísticas descriptivas de Cantidad Vendida\n",
        "max = df.groupby('Categoría')['Cantidad Vendida'].max()\n",
        "min =  df.groupby('Categoría')['Cantidad Vendida'].min()\n",
        "media = df.groupby('Categoría')['Cantidad Vendida'].mean()\n",
        "std = df.groupby('Categoría')['Cantidad Vendida'].std()\n",
        "\n",
        "#4. Mostras Análisis\n",
        "print(\"\\nEstadísticas Descriptivas de Cantidades Vendidas por Categoría:\")\n",
        "print(\"\\nMáximos:\")\n",
        "print(max)\n",
        "print(\"\\nMínimos:\")\n",
        "print(min)\n",
        "print(\"\\nPromedios:\")\n",
        "print(media.round(2))\n",
        "print(\"\\nDesviación Estándar:\")\n",
        "print(std.round(2))\n"
      ],
      "metadata": {
        "id": "Q2hyq_Kl6tNt"
      },
      "execution_count": null,
      "outputs": []
    }
  ]
}