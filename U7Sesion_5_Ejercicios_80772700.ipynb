{
  "nbformat": 4,
  "nbformat_minor": 0,
  "metadata": {
    "colab": {
      "provenance": [],
      "authorship_tag": "ABX9TyMID5ry5oHnNooYVqyXr3ki",
      "include_colab_link": true
    },
    "kernelspec": {
      "name": "python3",
      "display_name": "Python 3"
    },
    "language_info": {
      "name": "python"
    }
  },
  "cells": [
    {
      "cell_type": "markdown",
      "metadata": {
        "id": "view-in-github",
        "colab_type": "text"
      },
      "source": [
        "<a href=\"https://colab.research.google.com/github/diegortiz6685/Portafolio/blob/main/U7Sesion_5_Ejercicios_80772700.ipynb\" target=\"_parent\"><img src=\"https://colab.research.google.com/assets/colab-badge.svg\" alt=\"Open In Colab\"/></a>"
      ]
    },
    {
      "cell_type": "markdown",
      "source": [
        "EJERCICIO 1: DataFrame"
      ],
      "metadata": {
        "id": "A0r1OhGJFodZ"
      }
    },
    {
      "cell_type": "code",
      "source": [
        "import pandas as pd\n",
        "\n",
        "estudiantes = {\"NOMBRE\":[\"Carlos Alvarez\",\"Camilo Moreno\",\"Diego Ortiz\",\"Jorge Ramirez\"],\"EDAD\":[17,15,16,17], \"CALIFICACION\":[4.5,3.5,5.0,2.8]}\n",
        "estudiantes_df = pd.DataFrame(estudiantes)\n",
        "estudiantes_df"
      ],
      "metadata": {
        "id": "84NGbEokICBA"
      },
      "execution_count": null,
      "outputs": []
    },
    {
      "cell_type": "markdown",
      "source": [
        "EJERCICIO 2: Manipulación básica con Pandas"
      ],
      "metadata": {
        "id": "MAgnHVkzJE0o"
      }
    },
    {
      "cell_type": "code",
      "source": [
        "import pandas as pd\n",
        "\n",
        "#Crear DataFrame:\n",
        "nombre = [\"Camilo Perez\",\"Diego Ortiz\",\"German Hernandez\",\"Diana Diaz\"]\n",
        "edad = [23,32,18,26]\n",
        "ciudad = [\"Bogota\",\"Medellin\",\"Cali\",\"Barranquilla\"]\n",
        "datos = {\"Nombre\":nombre,\"Edad\":edad,\"Ciudad\":ciudad}\n",
        "datos_df = pd.DataFrame(datos)\n",
        "print(\"DataFrame Original:\\n\")\n",
        "print(datos_df)\n",
        "\n",
        "#Filtro MAyores de 25:\n",
        "datos_25_df = datos_df[datos_df[\"Edad\"]>25]\n",
        "print(\"\\nMayores de 25:\\n\")\n",
        "print(datos_25_df,\"\\n\")\n",
        "\n",
        "#Agregar Columna y Categorizar:\n",
        "datos_df[\"Categoria\"] = \"\"\n",
        "\n",
        "for index, row in datos_df.iterrows():\n",
        "    if row[\"Edad\"] < 25:\n",
        "        datos_df.loc[index, \"Categoria\"] = \"Joven\"\n",
        "    else:\n",
        "        datos_df.loc[index, \"Categoria\"] = \"Adulto\"\n",
        "print(\"\\nDataFrame con nueva columna:\\n\")\n",
        "datos_df\n"
      ],
      "metadata": {
        "id": "ZhaIaeDkJNEY"
      },
      "execution_count": null,
      "outputs": []
    },
    {
      "cell_type": "markdown",
      "source": [
        "EJERCICIO 3: Operación Básica con NumPy"
      ],
      "metadata": {
        "id": "ywCEw84VRwdU"
      }
    },
    {
      "cell_type": "code",
      "source": [
        "import numpy as np\n",
        "\n",
        "#Crear lista llamada vector\n",
        "vector = [1,2,3,4,5]\n",
        "print(\"\\nVector\\n\",vector,\"\\n\")\n",
        "\n",
        "#Calcular media y desviación estandar de vector\n",
        "promedio = np.mean(vector)\n",
        "desviacion_estandar = np.std(vector)\n",
        "print(\"El promedio de vector es:\",promedio)\n",
        "print(\"La desviación estandar de vector es:\",desviacion_estandar)\n",
        "\n",
        "#Crear matriz con 3 filas y 2 columnas llena de numeros aleatorios de 1 a 10\n",
        "matriz = np.random.randint(0,10,size=(2,3))\n",
        "print(\"\\nMatriz Creada\\n\",matriz)\n",
        "\n",
        "#Multiplicar elementos de matriz x2\n",
        "matriz_x2 = matriz * 2\n",
        "print(\"\\nMatriz x2\\n\",matriz_x2)"
      ],
      "metadata": {
        "id": "BcVRQ-kkSCtT"
      },
      "execution_count": null,
      "outputs": []
    },
    {
      "cell_type": "markdown",
      "source": [
        "EJERCICIO 4: Programa Pandas"
      ],
      "metadata": {
        "id": "4HEHcLsEXp57"
      }
    },
    {
      "cell_type": "code",
      "source": [
        "import pandas as pd\n",
        "\n",
        "sepal_lenght = [5.1,7.0,6.3,4.9,5.5,3.5,4.1,6.8,7.2]\n",
        "sepal_width = [3.5,3.2,3.3,2.4,2.9,3.4,2.7,2.8,3.3]\n",
        "petal_lenght =[1.4,4.7,6.0,3.3,5.5,4.8,3.9,4.2,1.9]\n",
        "petal_width = [0.2,1.4,2.5,1.0,1.8,2.3,1.9,2.2,1.3]\n",
        "species = [\"Setosa\",\"Versicolor\",\"Virginica\",\"Versicolor\",\"Setosa\",\"Virginica\",\"Virginica\",\"Setosa\",\"Versicolor\"]\n",
        "iris = {\"Long. Sépalo\":sepal_lenght,\"Ancho Sépalo\":sepal_width,\"Long. Pétalo\":petal_lenght,\"Ancho Pétalo\":petal_width,\"Especie\":species}\n",
        "iris_df = pd.DataFrame(iris)\n",
        "print(\"DataFrame Original\\n\")\n",
        "print(iris_df)\n",
        "\n",
        "#Mostrar 5 primeras filas\n",
        "print(\"\\n5 primeras filas\\n\")\n",
        "print(iris_df.head(5))\n",
        "\n",
        "#Filtrar filas con Iris Setosa\n",
        "df_iris_setosa = iris_df[iris_df[\"Especie\"]==\"Setosa\"]\n",
        "print(\"\\nEspecie Iris Setosa\\n\")\n",
        "print(df_iris_setosa)\n",
        "\n",
        "promedio_setosa = df_iris_setosa[\"Long. Sépalo\"].mean()\n",
        "print(\"\\nLa longitud promedio del Sépalo en la especie Iris Setosa es\", promedio_setosa,\"\\n\")"
      ],
      "metadata": {
        "id": "xeoIw2zmYEZi"
      },
      "execution_count": null,
      "outputs": []
    },
    {
      "cell_type": "markdown",
      "source": [
        "EJERCICIO 5: Concatenación de DataFrames"
      ],
      "metadata": {
        "id": "I4U1xE2VIE6a"
      }
    },
    {
      "cell_type": "code",
      "source": [
        "import pandas as pd\n",
        "\n",
        "df1 = pd.DataFrame({\"A\":[1,2,3],\"B\":[4,5,6],\"C\":[7,8,9]})\n",
        "df2 = pd.DataFrame({\"A\":[10,11,12],\"B\":[13,14,15],\"C\":[16,17,18]})\n",
        "\n",
        "df_concat = pd.concat([df1,df2],ignore_index=True)\n",
        "print(df_concat)\n"
      ],
      "metadata": {
        "id": "duboe734IP70"
      },
      "execution_count": null,
      "outputs": []
    }
  ]
}