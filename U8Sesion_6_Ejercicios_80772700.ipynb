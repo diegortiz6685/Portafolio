{
  "nbformat": 4,
  "nbformat_minor": 0,
  "metadata": {
    "colab": {
      "provenance": [],
      "authorship_tag": "ABX9TyMQoRs8Fmo4RX4XKwIUkRRF",
      "include_colab_link": true
    },
    "kernelspec": {
      "name": "python3",
      "display_name": "Python 3"
    },
    "language_info": {
      "name": "python"
    }
  },
  "cells": [
    {
      "cell_type": "markdown",
      "metadata": {
        "id": "view-in-github",
        "colab_type": "text"
      },
      "source": [
        "<a href=\"https://colab.research.google.com/github/diegortiz6685/Portafolio/blob/main/U8Sesion_6_Ejercicios_80772700.ipynb\" target=\"_parent\"><img src=\"https://colab.research.google.com/assets/colab-badge.svg\" alt=\"Open In Colab\"/></a>"
      ]
    },
    {
      "cell_type": "markdown",
      "source": [
        "EJERCICIO 1: Conversión de la Columna \"Fecha\" a un Formato de Fecha Estándar"
      ],
      "metadata": {
        "id": "7uH4VrHWX2nx"
      }
    },
    {
      "cell_type": "code",
      "execution_count": null,
      "metadata": {
        "id": "Dnh-89ASXoN7"
      },
      "outputs": [],
      "source": [
        "import pandas as pd\n",
        "import numpy as np\n",
        "\n",
        "#1. Cargar DataFrame\n",
        "df = pd.read_csv('https://drive.google.com/uc?export=download&id=1Oeo3UjU3Si9i7rumO7_G0bY68suoiwJk')\n",
        "print(\"El DataFrame Original\\n\")\n",
        "print(df.head(10))\n",
        "\n",
        "#2. Cambiar las fechas al mismo formato\n",
        "df['Fecha'] = pd.to_datetime(df['Fecha'],format='mixed')\n",
        "df['Fecha'] = pd.to_datetime(df['Fecha'],format='%d/%m/%Y')\n",
        "\n",
        "#3. Verificación del cambio\n",
        "print(\"\\nEl DataFrame con las fechas en el mismo formato\\n\")\n",
        "print(df.head(10))"
      ]
    },
    {
      "cell_type": "markdown",
      "source": [
        "EJERCICIO 2: Conversión de Columnas Numéricas con Manejo de Errores"
      ],
      "metadata": {
        "id": "dhbspOuVjId6"
      }
    },
    {
      "cell_type": "code",
      "source": [
        "#2 y 3. Convertir columnas ventas y precio unitario a numéricos y convertir errores a NaN\n",
        "df['Ventas'] = pd.to_numeric(df['Ventas'],errors='coerce')\n",
        "df['Precio Unitario'] = pd.to_numeric(df['Precio Unitario'],errors='coerce')\n",
        "print(df.info())\n",
        "\n",
        "#4. Mostrar 10 primeras filas\n",
        "print(\"\\nEl DataFrame con las columnas ventas y precio unitario convertidas a numérico\\n\")\n",
        "print(df.head(10))"
      ],
      "metadata": {
        "id": "nTKcVzHvjPzy"
      },
      "execution_count": null,
      "outputs": []
    },
    {
      "cell_type": "markdown",
      "source": [
        "EJERCICIO 3: Análisis Estadístico Descriptivo tras la Limpieza de Datos"
      ],
      "metadata": {
        "id": "BmxFp6Elmxnh"
      }
    },
    {
      "cell_type": "code",
      "source": [
        "#4. Generar las estadísticas descriptivas\n",
        "df.describe()"
      ],
      "metadata": {
        "id": "qhcPS06cm4kJ"
      },
      "execution_count": null,
      "outputs": []
    },
    {
      "cell_type": "markdown",
      "source": [
        "EJERCICIO 4:  Manejo de Valores Nulos tras la Conversión de Tipos"
      ],
      "metadata": {
        "id": "ZxttONTtn9Vo"
      }
    },
    {
      "cell_type": "code",
      "source": [
        "#4. Manejo de valores nulos\n",
        "#4.1 En ventas reemplazar el valor nulo con el promedio\n",
        "df['Ventas'] = df['Ventas'].fillna(df['Ventas'].mean())\n",
        "\n",
        "#4.2 En precio unitario reemplazar el valor nulo con  el número 0\n",
        "df['Precio Unitario'] = df['Precio Unitario'].fillna(0)\n",
        "\n",
        "#4.3 Estadísticas descriptivas\n",
        "print(df.describe())\n",
        "\n",
        "#4.4 Mostrar 10 primeras filas\n",
        "print(\"\\nEl DataFrame con los nulos en columnas ventas y precio unitario reemplazados\\n\")\n",
        "print(df.head(10))"
      ],
      "metadata": {
        "id": "6e2Keh_SoCcA"
      },
      "execution_count": null,
      "outputs": []
    }
  ]
}