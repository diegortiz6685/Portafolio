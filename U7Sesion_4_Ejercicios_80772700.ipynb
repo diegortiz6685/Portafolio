{
  "nbformat": 4,
  "nbformat_minor": 0,
  "metadata": {
    "colab": {
      "provenance": [],
      "authorship_tag": "ABX9TyPLO5DkuY/2W7nQModjf61J",
      "include_colab_link": true
    },
    "kernelspec": {
      "name": "python3",
      "display_name": "Python 3"
    },
    "language_info": {
      "name": "python"
    }
  },
  "cells": [
    {
      "cell_type": "markdown",
      "metadata": {
        "id": "view-in-github",
        "colab_type": "text"
      },
      "source": [
        "<a href=\"https://colab.research.google.com/github/diegortiz6685/Portafolio/blob/main/U7Sesion_4_Ejercicios_80772700.ipynb\" target=\"_parent\"><img src=\"https://colab.research.google.com/assets/colab-badge.svg\" alt=\"Open In Colab\"/></a>"
      ]
    },
    {
      "cell_type": "markdown",
      "source": [
        "EJERCICIO 1: Materias"
      ],
      "metadata": {
        "id": "DWE6BOICY2A9"
      }
    },
    {
      "cell_type": "code",
      "source": [
        "asignaturas = [\"Matemáticas\", \"Física\", \"Química\", \"Historia\", \"Lengua\", \"Programación\"]\n",
        "notas = {} # Se crea un diccionario para almacenar las variables\n",
        "for n in asignaturas:\n",
        "    nota = float(input(f\"Ingrese la nota que sacó en {n}: \"))\n",
        "    notas[n] = nota\n",
        "print(\"\\nReporte de notas del estudiante:\")\n",
        "for i in range(len(asignaturas)):\n",
        "    print(f\"En la asignatura {asignaturas[i]} has sacado {notas[asignaturas[i]]}\")"
      ],
      "metadata": {
        "id": "ciKcDVV6aHzO"
      },
      "execution_count": null,
      "outputs": []
    },
    {
      "cell_type": "markdown",
      "source": [
        "EJERCICIO 2: Cesta de Compras"
      ],
      "metadata": {
        "id": "0Iwzn2ZhhxCA"
      }
    },
    {
      "cell_type": "code",
      "source": [
        "cesta={} #Se crea el diccionario\n",
        "while True: #Se genera un ciclo infinito hasta que se cierre con la palabra FIN\n",
        "    articulo = input(\"Introduce el articulo: \")\n",
        "    if articulo.upper() == 'FIN': #Palabra para finalizar el ciclo\n",
        "      break\n",
        "    try:\n",
        "      precio=float(input(f\"Intruduce el precio de {articulo}: \"))\n",
        "      cesta[articulo] = precio #Código para guardar el articulo y su precio en el diccionario cesta\n",
        "    except ValueError: #Se introduce por si el usuario no ingresa un número válido\n",
        "      print(\"Por favor, introduce un valor de precio válido\")\n",
        "\n",
        "print(\"\\nLista de la compra:\\n\")\n",
        "\n",
        "for articulo, precio in cesta.items(): #Impresión del listado de articulos y precios\n",
        "    print(f\"{articulo}:${precio}\")\n",
        "\n",
        "total = sum(cesta.values()) #Sumatoria de precios para dar el total\n",
        "print(f\"TOTAL\\t{total}\")"
      ],
      "metadata": {
        "id": "RGCYu7Xt0cwk"
      },
      "execution_count": null,
      "outputs": []
    },
    {
      "cell_type": "markdown",
      "source": [
        "EJERCICIO 3: BASE DE DATOS CLIENTES"
      ],
      "metadata": {
        "id": "SQv5Rm63T9Yi"
      }
    },
    {
      "cell_type": "code",
      "source": [
        "base_clientes = {}\n",
        "while True:\n",
        "  print(\"\\nMenú:\\n1)Añadir Cliente\\n2)Eliminar Cliente\\n3)Mostrar Cliente\\n4)Listar todos los clientes\\n5)Listar clientes preferenciales\\n6)Terminar\")\n",
        "  opcion = input(\"Selecciona una opción: \")\n",
        "\n",
        "  if opcion == '1':\n",
        "      nit = input(\"Introduce el NIT del cliente: \")\n",
        "      nombre = input(\"Introduce el nombre del cliente: \")\n",
        "      direccion = input(\"Introduce la dirección del cliente: \")\n",
        "      telefono = input(\"Introduce el teléfono del cliente: \")\n",
        "      correo = input(\"Introduce el correo del cliente: \")\n",
        "      preferencial = input(\"¿Es un cliente preferencial? (S/N): \")\n",
        "      if preferencial.upper() == 'S':\n",
        "        preferencial = True\n",
        "      else:\n",
        "        preferencial = False\n",
        "      base_clientes[nit] = {'nombre': nombre, 'direccion': direccion, 'telefono': telefono, 'correo': correo, 'preferencial': preferencial}\n",
        "      print(\"Cliente añadido correctamente\")\n",
        "\n",
        "  elif opcion == '2':\n",
        "      nit = input(\"Introduce el NIT del cliente a eliminar: \")\n",
        "      if nit in base_clientes:\n",
        "          del base_clientes[nit]\n",
        "          print(f\"Cliente con NIT {nit} ha sido eliminado correctamente\")\n",
        "      else:\n",
        "        print(\"Cliente no encontrado\")\n",
        "\n",
        "  elif opcion == '3':\n",
        "      nit = input(\"Introduce el NIT del cliente a mostrar: \")\n",
        "      if nit in base_clientes:\n",
        "          print(f\"Nombre: {base_clientes[nit]['nombre']}\")\n",
        "          print(f\"Dirección: {base_clientes[nit]['direccion']}\")\n",
        "          print(f\"Teléfono: {base_clientes[nit]['telefono']}\")\n",
        "          print(f\"Correo: {base_clientes[nit]['correo']}\")\n",
        "          if base_clientes[nit]['preferencial']:\n",
        "            print(\"Es un cliente preferencial\")\n",
        "          else:\n",
        "            print(\"No es un cliente preferencial\")\n",
        "      else:\n",
        "            print(\"Cliente no encontrado\")\n",
        "\n",
        "  elif opcion == '4':\n",
        "      print(\"Lista de clientes:\")\n",
        "      for nit, n in base_clientes.items():\n",
        "          print(f\"NIT: {nit}, Nombre: {n['nombre']}\")\n",
        "\n",
        "  elif opcion == '5':\n",
        "        print(\"Lista de clientes preferenciales:\")\n",
        "        for nit, n in base_clientes.items():\n",
        "          if n['preferencial']:\n",
        "            print(f\"NIT: {nit}, Nombre: {n['nombre']}\")\n",
        "\n",
        "  elif opcion == '6':\n",
        "        print(\"Programa terminado\")\n",
        "        break\n",
        "\n",
        "  else:\n",
        "        print(\"Opción no válida. Por favor ingrese un valor indicado en el menú\")\n"
      ],
      "metadata": {
        "id": "Xx1Dg4rzUA7C"
      },
      "execution_count": null,
      "outputs": []
    },
    {
      "cell_type": "markdown",
      "source": [
        "EJERCICIO 4: Registro de Empleados"
      ],
      "metadata": {
        "id": "IXBVt0C5xBPx"
      }
    },
    {
      "cell_type": "code",
      "source": [
        "base_empleados = {}\n",
        "while True:\n",
        "    print(\"\\nMenú Principal:\\n1. Agregar un empleado\\n2. Mostrar todos los empleados\\n3. Salir\")\n",
        "    opcion = input(\"\\nSeleccione una opción del menu: \\n\")\n",
        "\n",
        "    if opcion == \"1\":\n",
        "      nombre = input(\"Ingrese el nombre completo del empleado: \")\n",
        "      salario = int(input(\"Ingrese el salario del empleado: \"))\n",
        "      cargo = input(\"Ingrese el cargo del empleado: \")\n",
        "      base_empleados[nombre] = {\"salario\": salario, \"cargo\": cargo}\n",
        "      print(\"Empleado agregado correctamente.\")\n",
        "\n",
        "    elif opcion == \"2\":\n",
        "      print(\"\\nLista de empleados:\")\n",
        "      for nombre in base_empleados:\n",
        "        print(f\"Nombre: {nombre}, Salario: ${base_empleados[nombre]['salario']}, Cargo: {base_empleados[nombre]['cargo']}\")\n",
        "\n",
        "    elif opcion == \"3\":\n",
        "      print(\"\\nPROGRAMA TERMINADO\")\n",
        "      break\n",
        "\n",
        "    else:\n",
        "      print(\"Opción inválida. Por favor, seleccione una opción válida del menú.\")"
      ],
      "metadata": {
        "id": "JlvbPr4HxK-S"
      },
      "execution_count": null,
      "outputs": []
    },
    {
      "cell_type": "markdown",
      "source": [
        "EJERCICIO 5: Promedio de notas"
      ],
      "metadata": {
        "id": "UJiImbugDOk9"
      }
    },
    {
      "cell_type": "code",
      "source": [
        "notas = []\n",
        "nota = 0\n",
        "while True:\n",
        "  nota = print(\"Ingrese una nota de 0 a 5 (ingrese-1 para finalizar): \")\n",
        "  try:\n",
        "    nota = float(input())\n",
        "  except ValueError:\n",
        "    print(\"Por favor, ingrese un valor numérico válido\")\n",
        "    continue\n",
        "  if nota == -1:\n",
        "    break\n",
        "  elif nota < 0 or nota > 5:\n",
        "    print(\"Por favor, ingrese una nota válida\")\n",
        "    continue\n",
        "  else:\n",
        "    notas.append(nota)\n",
        "promedio = sum(notas) / len(notas)\n",
        "print(f\"El promedio de notas es: {promedio}\")\n"
      ],
      "metadata": {
        "id": "-7_juMczxzKp"
      },
      "execution_count": null,
      "outputs": []
    }
  ]
}