{
  "nbformat": 4,
  "nbformat_minor": 0,
  "metadata": {
    "colab": {
      "provenance": [],
      "authorship_tag": "ABX9TyN72z21Inj2tbmPLuyllUDz",
      "include_colab_link": true
    },
    "kernelspec": {
      "name": "python3",
      "display_name": "Python 3"
    },
    "language_info": {
      "name": "python"
    }
  },
  "cells": [
    {
      "cell_type": "markdown",
      "metadata": {
        "id": "view-in-github",
        "colab_type": "text"
      },
      "source": [
        "<a href=\"https://colab.research.google.com/github/diegortiz6685/Portafolio/blob/main/U8Sesion_1_Ejercicios_80772700.ipynb\" target=\"_parent\"><img src=\"https://colab.research.google.com/assets/colab-badge.svg\" alt=\"Open In Colab\"/></a>"
      ]
    },
    {
      "cell_type": "markdown",
      "source": [
        "EJERCICIO 1: Análisis de Datos de Ventas en una Tienda"
      ],
      "metadata": {
        "id": "lYgIsngbAF9x"
      }
    },
    {
      "cell_type": "code",
      "source": [
        "import pandas as pd\n",
        "#Crear DataFrame de arhivo CSV\n",
        "df_ventas = pd.read_csv('https://docs.google.com/spreadsheets/d/18LQO7KKhV8kQ_rxegxFDAcscKxs5Drii/export?format=csv')\n",
        "#df_ventas\n",
        "\n",
        "#Mostrar 10 primeras filas\n",
        "print(\"Las primeras 10 filas del DataFrame son:\\n\")\n",
        "print(df_ventas.head(10))\n",
        "\n",
        "#Obtener Información del DataFrame\n",
        "\n",
        "#Número de Filas y Columnas\n",
        "print(\"\\nEl número de filas y comunas del DataFrame son:\")\n",
        "print(df_ventas.shape)\n",
        "\n",
        "#Nombres de las Columnas\n",
        "print(\"\\nLos nombres de las Columnas son:\")\n",
        "print(df_ventas.columns)\n",
        "\n",
        "#Tipo de Datos de Cada Columna\n",
        "print(\"\\nLos tipos de datos de cada columna son:\")\n",
        "print(df_ventas.dtypes)\n",
        "\n",
        "#Identificación de valores nulos\n",
        "print(\"\\nLos valores nulos en el DataFrame son:\")\n",
        "print(df_ventas.isnull())\n"
      ],
      "metadata": {
        "id": "urUGUr98MFZl"
      },
      "execution_count": null,
      "outputs": []
    },
    {
      "cell_type": "markdown",
      "source": [
        "EJERCICIO 2: Análisis de Productos y Ventas por Categoría"
      ],
      "metadata": {
        "id": "tbCGe7whVC2u"
      }
    },
    {
      "cell_type": "code",
      "source": [
        "import pandas as pd\n",
        "import numpy as np\n",
        "\n",
        "#1.Crear DataFrame de arhivo CSV\n",
        "df_ventas = pd.read_csv('https://docs.google.com/spreadsheets/d/18LQO7KKhV8kQ_rxegxFDAcscKxs5Drii/export?format=csv')\n",
        "print(\"DataFrame Importado - Ventas\")\n",
        "print(df_ventas)\n",
        "\n",
        "#2.Lista de Productos Unicos\n",
        "df_unico = df_ventas.drop_duplicates('Producto')\n",
        "df_unicos = df_unico['Producto']\n",
        "print(\"\\nListado de Productos en Ventas:\")\n",
        "print(df_unicos)\n",
        "\n",
        "#3.Número Total de Ventas\n",
        "df_ventas['PrecioUnitario'] = df_ventas['PrecioUnitario'].astype(str).str.replace(\",\",\".\")\n",
        "df_ventas['PrecioUnitario'] = df_ventas['PrecioUnitario'].astype(float)\n",
        "\n",
        "df_ventas[\"Ventas\"] = df_ventas['PrecioUnitario']*np.random.randint(1,10,size=len(df_ventas))\n",
        "print(\"\\nDataFrame Ventas con nueva Columna\\n\")\n",
        "print(df_ventas)\n",
        "\n",
        "suma_ventas = df_ventas.groupby('Categoría')['Ventas'].sum()\n",
        "print(\"\\nVentas por Categoría:\")\n",
        "print(suma_ventas)\n",
        "\n",
        "#4. Ordenar las Categorías de mayor a menor por las ventas\n",
        "print(\"\\nOrdenar las Categorías de mayor a menor por las ventas:\")\n",
        "print(suma_ventas.sort_values(ascending=False))\n",
        "\n",
        "#5. Ordenar el DataFrame según las ventas de mayor a menor\n",
        "print(\"\\nOrdenar el DataFrame según las ventas de mayor a menor:\")\n",
        "print(df_ventas.sort_values(by='Ventas', ascending=False))\n"
      ],
      "metadata": {
        "id": "QEGHUqKdWUjs"
      },
      "execution_count": null,
      "outputs": []
    },
    {
      "cell_type": "markdown",
      "source": [
        "EJERCICIO 3: Cálculo de Ingresos y Filtrado de Productos"
      ],
      "metadata": {
        "id": "jLq0lK5z5vWH"
      }
    },
    {
      "cell_type": "code",
      "source": [
        "import pandas as pd\n",
        "import numpy as np\n",
        "import random\n",
        "\n",
        "#1.Crear DataFrame de arhivo CSV y corregir datos columna Precio Unitario\n",
        "df_ventas = pd.read_csv('https://docs.google.com/spreadsheets/d/18LQO7KKhV8kQ_rxegxFDAcscKxs5Drii/export?format=csv')\n",
        "df_ventas['PrecioUnitario'] = df_ventas['PrecioUnitario'].astype(str).str.replace(\",\",\".\")\n",
        "df_ventas['PrecioUnitario'] = df_ventas['PrecioUnitario'].astype(float)\n",
        "\n",
        "#2. Columna Ingresos\n",
        "df_ventas['Uni.Vendidas'] = np.random.randint(100, 5000, size=len(df_ventas))\n",
        "df_ventas['Ingresos'] = df_ventas['PrecioUnitario']*df_ventas['Uni.Vendidas']\n",
        "\n",
        "#3. Filtro con productos con ingresos superiores a 5000\n",
        "df_filtro = df_ventas[df_ventas['Ingresos'] > 5000]\n",
        "\n",
        "print(\"Las primeras 5 filas del DF Filtro son:\\n\")\n",
        "print(df_filtro.head(5))\n"
      ],
      "metadata": {
        "id": "vTWboq866bPq"
      },
      "execution_count": null,
      "outputs": []
    },
    {
      "cell_type": "markdown",
      "source": [
        "EJERCICIO 4: Filtrado de Ventas por Rango de Fechas"
      ],
      "metadata": {
        "id": "w8OdUN7EBbCg"
      }
    },
    {
      "cell_type": "code",
      "source": [
        "#Crear rango de fechas en DataFrame generado en Ejercicio 3\n",
        "df_ventas['Fecha'] = pd.date_range(start='2023-01-01',end='2023-01-20', freq='D')\n",
        "\n",
        "#Filtrar las ventas por fecha y realizar la sumatoria de ventas del periodo\n",
        "df_filtro2 = df_ventas[df_ventas['Fecha'] > '2023-01-04']\n",
        "print(\"Las ventas totales del periodo son: $\",df_filtro2['Ingresos'].sum())\n",
        "\n",
        "df_ventas.to_csv('Datos_Ventas_Diego_Ortiz',index=False)\n",
        "df_filtro2"
      ],
      "metadata": {
        "id": "WqRLwEdIBcvk"
      },
      "execution_count": null,
      "outputs": []
    }
  ]
}