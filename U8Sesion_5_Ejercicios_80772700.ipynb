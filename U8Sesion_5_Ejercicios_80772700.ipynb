{
  "nbformat": 4,
  "nbformat_minor": 0,
  "metadata": {
    "colab": {
      "provenance": [],
      "authorship_tag": "ABX9TyOcKZiwRDgD8p/+7B1mX14t",
      "include_colab_link": true
    },
    "kernelspec": {
      "name": "python3",
      "display_name": "Python 3"
    },
    "language_info": {
      "name": "python"
    }
  },
  "cells": [
    {
      "cell_type": "markdown",
      "metadata": {
        "id": "view-in-github",
        "colab_type": "text"
      },
      "source": [
        "<a href=\"https://colab.research.google.com/github/diegortiz6685/Portafolio/blob/main/U8Sesion_5_Ejercicios_80772700.ipynb\" target=\"_parent\"><img src=\"https://colab.research.google.com/assets/colab-badge.svg\" alt=\"Open In Colab\"/></a>"
      ]
    },
    {
      "cell_type": "markdown",
      "source": [
        "EJERCICIO 1: Identificación y Visualización de Filas Duplicadas"
      ],
      "metadata": {
        "id": "oyz5OJSd7F5_"
      }
    },
    {
      "cell_type": "code",
      "execution_count": null,
      "metadata": {
        "id": "ubvQYhMn63S4"
      },
      "outputs": [],
      "source": [
        "import pandas as pd\n",
        "import numpy as np\n",
        "\n",
        "#1. Cargar Datos del DF\n",
        "df = pd.read_csv('https://drive.google.com/uc?export=download&id=1d8ccNG7I55lMGurBiZy7pQNk78DRkQDV')\n",
        "\n",
        "#2. Identificación de duplicados\n",
        "duplicados = df[df.duplicated()]\n",
        "\n",
        "#3. Visualización de filas duplicadas\n",
        "print(\"Filas duplicadas:\")\n",
        "duplicados"
      ]
    },
    {
      "cell_type": "markdown",
      "source": [
        "EJERCICIO 2: Eliminación de Filas Duplicadas en un DataFrame"
      ],
      "metadata": {
        "id": "W1kFRiq87wFp"
      }
    },
    {
      "cell_type": "code",
      "source": [
        "print(f\"Número de filas antes de eliminar duplicados: {df.shape[0]}\")\n",
        "\n",
        "#3. Eliminación de filas duplicadas\n",
        "df_depurado = df.drop_duplicates()\n",
        "\n",
        "#4. Indicar numero de filas tras eliminar duplicados\n",
        "print(f\"Número de filas tras eliminar duplicados: {df_depurado.shape[0]}\")"
      ],
      "metadata": {
        "id": "iyfaiBmm70St"
      },
      "execution_count": null,
      "outputs": []
    },
    {
      "cell_type": "markdown",
      "source": [
        "EJERCICIO 3: Eliminación de Duplicados Basados en \"Producto\" y \"Ventas\""
      ],
      "metadata": {
        "id": "dAhfNeN79yE_"
      }
    },
    {
      "cell_type": "code",
      "source": [
        "#2. Detectar filas duplicadas basadas en columnas Producto y Ventas\n",
        "duplicados_2 = df[df.duplicated(subset=['Producto','Ventas'])]\n",
        "print(\"La cantidad de filas duplicadas basadas en las columnas Producto y Ventas es:\")\n",
        "print(duplicados_2.shape[0])\n",
        "#\n",
        "#3. Eliminar duplicados conservando la fila con mayor Precio Unitario\n",
        "df2 = df.sort_values('Precio Unitario', ascending=False)\n",
        "df_depurado2 = df2.drop_duplicates(subset=['Producto','Ventas'])\n",
        "print(f\"\\nNúmero de filas antes de eliminar duplicados: {df.shape[0]}\")\n",
        "print(f\"\\nNúmero de filas después de eliminar duplicados: {df_depurado2.shape[0]}\")\n"
      ],
      "metadata": {
        "id": "Zp6hzgf292YG"
      },
      "execution_count": null,
      "outputs": []
    },
    {
      "cell_type": "markdown",
      "source": [
        "EJERCICIO 4: Eliminación de Duplicados en la Columna \"Fecha\" Conservando la Primera Aparición"
      ],
      "metadata": {
        "id": "1nsDdnzPATXJ"
      }
    },
    {
      "cell_type": "code",
      "source": [
        "#2 y 3. Filas duplicadas en la columna fecha y eliminar duplicados mas recientes\n",
        "df['Fecha'] = pd.to_datetime(df['Fecha'])\n",
        "duplicados_fecha = df[df.duplicated(subset=['Fecha'])]\n",
        "print(\"La cantidad de filas duplicadas basadas en la columna Fecha es:\")\n",
        "print(duplicados_fecha.shape[0])\n",
        "\n",
        "#4. Mostrar número de filas antes y después de la eliminación\n",
        "df_depurado3 = df.drop_duplicates(subset=['Fecha'], keep='first')\n",
        "print(f\"\\nNúmero de filas antes de eliminar duplicados: {df.shape[0]}\")\n",
        "print(f\"\\nNúmero de filas después de eliminar duplicados: {df_depurado3.shape[0]}\")"
      ],
      "metadata": {
        "id": "MGHeT8Q3Angs"
      },
      "execution_count": null,
      "outputs": []
    },
    {
      "cell_type": "markdown",
      "source": [
        "EJERCICIO 5: Cálculo de \"Ingresos Totales\" tras la Fusión de Datos"
      ],
      "metadata": {
        "id": "IldezaQ-CTsb"
      }
    },
    {
      "cell_type": "code",
      "source": [
        "import pandas as pd\n",
        "import numpy as np\n",
        "\n",
        "#1. Importar DataFrames\n",
        "df_ventas = pd.read_csv('https://drive.google.com/uc?export=download&id=1txHNdJmFQqfGr1p7_9Y07HjfaHV7oJ1b')\n",
        "df_productos = pd.read_csv('https://drive.google.com/uc?export=download&id=1Vbfvur9orXO3lbb9RQgu27hAg1F9BMKm')\n",
        "#display(df_ventas)\n",
        "#display(df_productos)\n",
        "\n",
        "#2. Establecer columna \"Producto_ID\" como índice de los 2 DataFrames\n",
        "df_ventas.set_index('Producto_ID', inplace=True)\n",
        "df_productos.set_index('Producto_ID', inplace=True)\n",
        "\n",
        "#3. Fusionar los DataFrames\n",
        "df_fusion = df_ventas.join(df_productos, how='outer')\n",
        "#df_fusion.reset_index(inplace=True)\n",
        "\n",
        "#4. Crear Columna \"Ingresos Totales\"\n",
        "df_fusion['Ingresos Totales'] = df_fusion['Cantidad Vendida'] * df_fusion['Precio Unitario']\n",
        "\n",
        "#5. Mostrar el DataFrame resultante\n",
        "print(df_fusion.info())\n",
        "df_fusion\n"
      ],
      "metadata": {
        "id": "57Z5Hz9DCS-z"
      },
      "execution_count": null,
      "outputs": []
    }
  ]
}